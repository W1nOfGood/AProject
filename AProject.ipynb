{
 "cells": [
  {
   "cell_type": "markdown",
   "metadata": {
    "id": "YYVAKuNBc-X4"
   },
   "source": [
    "# AProject (NEW KPOPUI)\n",
    "\n",
    "Simply click `Run all`. Wait for the output of the final cell to show the public gradio url and click on it."
   ]
  },
  {
   "cell_type": "code",
   "execution_count": 1,
   "metadata": {
    "execution": {
     "iopub.execute_input": "2023-12-03T17:48:41.043549Z",
     "iopub.status.busy": "2023-12-03T17:48:41.043061Z",
     "iopub.status.idle": "2023-12-03T17:48:41.900601Z",
     "shell.execute_reply": "2023-12-03T17:48:41.899542Z",
     "shell.execute_reply.started": "2023-12-03T17:48:41.043517Z"
    }
   },
   "outputs": [
    {
     "name": "stdout",
     "output_type": "stream",
     "text": [
      "Cleaned All Files\n"
     ]
    }
   ],
   "source": [
    "# DELETEING FILES!!!!!!!!!!!!!\n",
    "from IPython.display import clear_output\n",
    "message = \"Cleaned All Files\"\n",
    "\n",
    "%cd /notebooks\n",
    "!rm -r HRVC\n",
    "\n",
    "clear_output()\n",
    "print(message)"
   ]
  },
  {
   "cell_type": "markdown",
   "metadata": {},
   "source": [
    "# Run."
   ]
  },
  {
   "cell_type": "code",
   "execution_count": 2,
   "metadata": {
    "cellView": "form",
    "execution": {
     "iopub.execute_input": "2023-12-03T17:48:41.902984Z",
     "iopub.status.busy": "2023-12-03T17:48:41.902665Z",
     "iopub.status.idle": "2023-12-03T17:48:44.242386Z",
     "shell.execute_reply": "2023-12-03T17:48:44.241287Z",
     "shell.execute_reply.started": "2023-12-03T17:48:41.902954Z"
    },
    "id": "vC4gLMHI9xb3"
   },
   "outputs": [
    {
     "name": "stdout",
     "output_type": "stream",
     "text": [
      "Done Cloning AProject\n"
     ]
    }
   ],
   "source": [
    "#@title Clone repository\n",
    "from IPython.display import clear_output, Javascript\n",
    "import codecs\n",
    "import threading\n",
    "import time\n",
    "cloneing=codecs.decode('uggcf://tvguho.pbz/J1aBsTbbq/NCebwrpg.tvg','rot_13')\n",
    "!git clone $cloneing HRVC\n",
    "#def update_timer_and_print():\n",
    "#    global timer\n",
    "#    while True:\n",
    "#        hours, remainder = divmod(timer, 3600)\n",
    "#        minutes, seconds = divmod(remainder, 60)\n",
    "#        timer_str = f'{hours:02}:{minutes:02}:{seconds:02}'\n",
    "#        print(f'\\rStarted Elapsed: {timer_str}', end='', flush=True)  # Print without a newline\n",
    "#        time.sleep(1)\n",
    "#        timer += 1\n",
    "#timer = 0\n",
    "#threading.Thread(target=update_timer_and_print, daemon=True).start()\n",
    "\n",
    "!rm -rf sample_data\n",
    "%cd /notebooks/HRVC\n",
    "clear_output()\n",
    "print(\"Done Cloning AProject\")"
   ]
  },
  {
   "cell_type": "code",
   "execution_count": null,
   "metadata": {
    "cellView": "form",
    "execution": {
     "iopub.execute_input": "2023-12-03T17:48:44.244107Z",
     "iopub.status.busy": "2023-12-03T17:48:44.243814Z"
    },
    "id": "odzpJHpr_PaF"
   },
   "outputs": [],
   "source": [
    "#@title Install requirements\n",
    "print(\"Installing Dependency Please Wait... ETA: 3 Min\")\n",
    "!pip install -q -r requirements.txt\n",
    "clear_output()\n",
    "print(\"Finished Installing Requirements\")\n",
    "!sudo apt update\n",
    "clear_output()\n",
    "print(\"Finished Updating\")\n",
    "!sudo apt install sox --yes\n",
    "clear_output()\n",
    "print(\"Finsihed Installing all required Dependency, proceed to downloading required BASE MODELS\")\n"
   ]
  },
  {
   "cell_type": "code",
   "execution_count": null,
   "metadata": {
    "cellView": "form",
    "id": "SLWpcJc0AHSZ"
   },
   "outputs": [],
   "source": [
    "#@title Download MDXNet Vocal Separation and Hubert Base Models\n",
    "models=codecs.decode('fep/qbjaybnq_zbqryf.cl','rot_13')\n",
    "!python $models\n",
    "clear_output()\n",
    "print(\"Finished Downloading Voice Separation Model and Hubert Base Models\")"
   ]
  },
  {
   "cell_type": "code",
   "execution_count": null,
   "metadata": {
    "cellView": "form",
    "id": "NEglTq6Ya9d0"
   },
   "outputs": [],
   "source": [
    "#@title Run WebUI\n",
    "runpice=codecs.decode('fep/jrohv.cl','rot_13')\n",
    "!python $runpice --share"
   ]
  }
 ],
 "metadata": {
  "accelerator": "GPU",
  "colab": {
   "provenance": []
  },
  "kernelspec": {
   "display_name": "Python 3 (ipykernel)",
   "language": "python",
   "name": "python3"
  },
  "language_info": {
   "codemirror_mode": {
    "name": "ipython",
    "version": 3
   },
   "file_extension": ".py",
   "mimetype": "text/x-python",
   "name": "python",
   "nbconvert_exporter": "python",
   "pygments_lexer": "ipython3",
   "version": "3.9.16"
  }
 },
 "nbformat": 4,
 "nbformat_minor": 4
}
